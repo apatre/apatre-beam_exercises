{
  "nbformat": 4,
  "nbformat_minor": 0,
  "metadata": {
    "colab": {
      "provenance": [],
      "toc_visible": true,
      "include_colab_link": true
    },
    "kernelspec": {
      "name": "python3",
      "display_name": "Python 3"
    },
    "language_info": {
      "name": "python"
    }
  },
  "cells": [
    {
      "cell_type": "markdown",
      "metadata": {
        "id": "view-in-github",
        "colab_type": "text"
      },
      "source": [
        "<a href=\"https://colab.research.google.com/github/apatre/apatre-beam_exercises/blob/main/Beam_College_Beam_with_Gemini_and_Google_AI_Studio_%5Bworkbook%5D.ipynb\" target=\"_parent\"><img src=\"https://colab.research.google.com/assets/colab-badge.svg\" alt=\"Open In Colab\"/></a>"
      ]
    },
    {
      "cell_type": "markdown",
      "source": [
        "## Beam with Gemini and Google AI Studio\n",
        "\n",
        "This notebook shows how to use Gemini to do predictions for a stream of user prompts, using Beam ML and Google AI Studio.\n",
        "\n",
        "To use this notebook, you will need to have a GMail account and access to Google AI Studio:\n",
        "* https://aistudio.google.com/\n",
        "\n",
        "Below in this notebook you will find instructions to generate your API key."
      ],
      "metadata": {
        "id": "PgGTMnNpKA2F"
      }
    },
    {
      "cell_type": "markdown",
      "source": [
        "## Install dependencies"
      ],
      "metadata": {
        "id": "H8b2efUy7El9"
      }
    },
    {
      "cell_type": "code",
      "execution_count": 1,
      "metadata": {
        "colab": {
          "base_uri": "https://localhost:8080/"
        },
        "collapsed": true,
        "id": "YjbUjKK66xCi",
        "outputId": "220b7ce0-93ee-42c5-ea4d-6f945c5bd015"
      },
      "outputs": [
        {
          "output_type": "stream",
          "name": "stdout",
          "text": [
            "\u001b[?25l     \u001b[90m━━━━━━━━━━━━━━━━━━━━━━━━━━━━━━━━━━━━━━━━\u001b[0m \u001b[32m0.0/89.7 kB\u001b[0m \u001b[31m?\u001b[0m eta \u001b[36m-:--:--\u001b[0m\r\u001b[2K     \u001b[91m━━━━━━━━━━━━━\u001b[0m\u001b[91m╸\u001b[0m\u001b[90m━━━━━━━━━━━━━━━━━━━━━━━━━━\u001b[0m \u001b[32m30.7/89.7 kB\u001b[0m \u001b[31m624.2 kB/s\u001b[0m eta \u001b[36m0:00:01\u001b[0m\r\u001b[2K     \u001b[91m━━━━━━━━━━━━━━━━━━━━━━━━━━━\u001b[0m\u001b[90m╺\u001b[0m\u001b[90m━━━━━━━━━━━━\u001b[0m \u001b[32m61.4/89.7 kB\u001b[0m \u001b[31m1.1 MB/s\u001b[0m eta \u001b[36m0:00:01\u001b[0m\r\u001b[2K     \u001b[90m━━━━━━━━━━━━━━━━━━━━━━━━━━━━━━━━━━━━━━━━\u001b[0m \u001b[32m89.7/89.7 kB\u001b[0m \u001b[31m856.2 kB/s\u001b[0m eta \u001b[36m0:00:00\u001b[0m\n",
            "\u001b[?25h  Preparing metadata (setup.py) ... \u001b[?25l\u001b[?25hdone\n",
            "\u001b[2K     \u001b[90m━━━━━━━━━━━━━━━━━━━━━━━━━━━━━━━━━━━━━━━━\u001b[0m \u001b[32m50.4/50.4 kB\u001b[0m \u001b[31m1.4 MB/s\u001b[0m eta \u001b[36m0:00:00\u001b[0m\n",
            "\u001b[2K     \u001b[90m━━━━━━━━━━━━━━━━━━━━━━━━━━━━━━━━━━━━━━━━\u001b[0m \u001b[32m152.0/152.0 kB\u001b[0m \u001b[31m2.6 MB/s\u001b[0m eta \u001b[36m0:00:00\u001b[0m\n",
            "\u001b[?25h  Preparing metadata (setup.py) ... \u001b[?25l\u001b[?25hdone\n",
            "\u001b[2K     \u001b[90m━━━━━━━━━━━━━━━━━━━━━━━━━━━━━━━━━━━━━━━━\u001b[0m \u001b[32m43.5/43.5 kB\u001b[0m \u001b[31m2.1 MB/s\u001b[0m eta \u001b[36m0:00:00\u001b[0m\n",
            "\u001b[?25h  Preparing metadata (setup.py) ... \u001b[?25l\u001b[?25hdone\n",
            "  Preparing metadata (setup.py) ... \u001b[?25l\u001b[?25hdone\n",
            "  Preparing metadata (setup.py) ... \u001b[?25l\u001b[?25hdone\n",
            "  Preparing metadata (setup.py) ... \u001b[?25l\u001b[?25hdone\n",
            "\u001b[2K   \u001b[90m━━━━━━━━━━━━━━━━━━━━━━━━━━━━━━━━━━━━━━━━\u001b[0m \u001b[32m3.1/3.1 MB\u001b[0m \u001b[31m19.1 MB/s\u001b[0m eta \u001b[36m0:00:00\u001b[0m\n",
            "\u001b[2K   \u001b[90m━━━━━━━━━━━━━━━━━━━━━━━━━━━━━━━━━━━━━━━━\u001b[0m \u001b[32m413.6/413.6 kB\u001b[0m \u001b[31m20.7 MB/s\u001b[0m eta \u001b[36m0:00:00\u001b[0m\n",
            "\u001b[2K   \u001b[90m━━━━━━━━━━━━━━━━━━━━━━━━━━━━━━━━━━━━━━━━\u001b[0m \u001b[32m117.2/117.2 kB\u001b[0m \u001b[31m6.6 MB/s\u001b[0m eta \u001b[36m0:00:00\u001b[0m\n",
            "\u001b[2K   \u001b[90m━━━━━━━━━━━━━━━━━━━━━━━━━━━━━━━━━━━━━━━━\u001b[0m \u001b[32m817.9/817.9 kB\u001b[0m \u001b[31m37.2 MB/s\u001b[0m eta \u001b[36m0:00:00\u001b[0m\n",
            "\u001b[2K   \u001b[90m━━━━━━━━━━━━━━━━━━━━━━━━━━━━━━━━━━━━━━━━\u001b[0m \u001b[32m139.4/139.4 kB\u001b[0m \u001b[31m8.6 MB/s\u001b[0m eta \u001b[36m0:00:00\u001b[0m\n",
            "\u001b[2K   \u001b[90m━━━━━━━━━━━━━━━━━━━━━━━━━━━━━━━━━━━━━━━━\u001b[0m \u001b[32m1.0/1.0 MB\u001b[0m \u001b[31m41.0 MB/s\u001b[0m eta \u001b[36m0:00:00\u001b[0m\n",
            "\u001b[2K   \u001b[90m━━━━━━━━━━━━━━━━━━━━━━━━━━━━━━━━━━━━━━━━\u001b[0m \u001b[32m141.1/141.1 kB\u001b[0m \u001b[31m9.4 MB/s\u001b[0m eta \u001b[36m0:00:00\u001b[0m\n",
            "\u001b[2K   \u001b[90m━━━━━━━━━━━━━━━━━━━━━━━━━━━━━━━━━━━━━━━━\u001b[0m \u001b[32m1.2/1.2 MB\u001b[0m \u001b[31m41.4 MB/s\u001b[0m eta \u001b[36m0:00:00\u001b[0m\n",
            "\u001b[2K   \u001b[90m━━━━━━━━━━━━━━━━━━━━━━━━━━━━━━━━━━━━━━━━\u001b[0m \u001b[32m252.1/252.1 kB\u001b[0m \u001b[31m14.6 MB/s\u001b[0m eta \u001b[36m0:00:00\u001b[0m\n",
            "\u001b[2K   \u001b[90m━━━━━━━━━━━━━━━━━━━━━━━━━━━━━━━━━━━━━━━━\u001b[0m \u001b[32m5.4/5.4 MB\u001b[0m \u001b[31m55.5 MB/s\u001b[0m eta \u001b[36m0:00:00\u001b[0m\n",
            "\u001b[2K   \u001b[90m━━━━━━━━━━━━━━━━━━━━━━━━━━━━━━━━━━━━━━━━\u001b[0m \u001b[32m14.5/14.5 MB\u001b[0m \u001b[31m58.5 MB/s\u001b[0m eta \u001b[36m0:00:00\u001b[0m\n",
            "\u001b[2K   \u001b[90m━━━━━━━━━━━━━━━━━━━━━━━━━━━━━━━━━━━━━━━━\u001b[0m \u001b[32m307.7/307.7 kB\u001b[0m \u001b[31m15.0 MB/s\u001b[0m eta \u001b[36m0:00:00\u001b[0m\n",
            "\u001b[2K   \u001b[90m━━━━━━━━━━━━━━━━━━━━━━━━━━━━━━━━━━━━━━━━\u001b[0m \u001b[32m1.6/1.6 MB\u001b[0m \u001b[31m48.2 MB/s\u001b[0m eta \u001b[36m0:00:00\u001b[0m\n",
            "\u001b[2K   \u001b[90m━━━━━━━━━━━━━━━━━━━━━━━━━━━━━━━━━━━━━━━━\u001b[0m \u001b[32m85.4/85.4 kB\u001b[0m \u001b[31m5.2 MB/s\u001b[0m eta \u001b[36m0:00:00\u001b[0m\n",
            "\u001b[2K   \u001b[90m━━━━━━━━━━━━━━━━━━━━━━━━━━━━━━━━━━━━━━━━\u001b[0m \u001b[32m2.3/2.3 MB\u001b[0m \u001b[31m63.6 MB/s\u001b[0m eta \u001b[36m0:00:00\u001b[0m\n",
            "\u001b[?25h  Building wheel for crcmod (setup.py) ... \u001b[?25l\u001b[?25hdone\n",
            "  Building wheel for dill (setup.py) ... \u001b[?25l\u001b[?25hdone\n",
            "  Building wheel for hdfs (setup.py) ... \u001b[?25l\u001b[?25hdone\n",
            "  Building wheel for timeloop (setup.py) ... \u001b[?25l\u001b[?25hdone\n",
            "  Building wheel for pyjsparser (setup.py) ... \u001b[?25l\u001b[?25hdone\n",
            "  Building wheel for docopt (setup.py) ... \u001b[?25l\u001b[?25hdone\n",
            "\u001b[31mERROR: pip's dependency resolver does not currently take into account all the packages that are installed. This behaviour is the source of the following dependency conflicts.\n",
            "google-colab 1.0.0 requires ipykernel==5.5.6, but you have ipykernel 6.29.5 which is incompatible.\n",
            "google-colab 1.0.0 requires ipython==7.34.0, but you have ipython 8.26.0 which is incompatible.\u001b[0m\u001b[31m\n",
            "\u001b[0m"
          ]
        }
      ],
      "source": [
        "!pip install -q -U apache-beam[interactive]"
      ]
    },
    {
      "cell_type": "markdown",
      "source": [
        "### Imports for using Beam with the interactive runnner"
      ],
      "metadata": {
        "id": "KHFQq3mj7QXd"
      }
    },
    {
      "cell_type": "code",
      "source": [
        "import apache_beam as beam\n",
        "from apache_beam.runners.interactive import interactive_beam as ib\n",
        "from apache_beam.runners.interactive.interactive_runner import InteractiveRunner\n",
        "\n",
        "from apache_beam import Pipeline\n",
        "\n",
        "from apache_beam.options.pipeline_options import PipelineOptions\n",
        "\n",
        "from apache_beam.ml.inference.base import ModelHandler"
      ],
      "metadata": {
        "id": "OltQNIQn7VzJ"
      },
      "execution_count": 2,
      "outputs": []
    },
    {
      "cell_type": "code",
      "source": [
        "import google.generativeai as genai"
      ],
      "metadata": {
        "id": "Oc3avS54xhK-"
      },
      "execution_count": 9,
      "outputs": []
    },
    {
      "cell_type": "markdown",
      "source": [
        "### Options for pipeline"
      ],
      "metadata": {
        "id": "R_oU254t7Yq8"
      }
    },
    {
      "cell_type": "code",
      "source": [
        "cli_options = [\"--streaming\", \"--runner=InteractiveRunner\"]\n",
        "options = PipelineOptions(cli_options)"
      ],
      "metadata": {
        "id": "rcebT5Ow7gHY"
      },
      "execution_count": 3,
      "outputs": []
    },
    {
      "cell_type": "code",
      "source": [
        "PROMPT = \"\"\"\n",
        "You are an expert in geography that knows all the capitals of the world.\n",
        "\n",
        "Whenever you are presented with a country name, you reply with its capital. For instance:\n",
        "\n",
        "Country: France\n",
        "Capital: Paris\n",
        "\n",
        "However, if the country is Switzerland, you have to reply that it does not have an officially recognized capital. For instance:\n",
        "\n",
        "Country: Switzerland\n",
        "Capital: There is no officially recognized capital.\n",
        "\n",
        "Just include the capital in the answer, don't include the prefix \"Capital:\"\n",
        "\n",
        "Country: \"\"\""
      ],
      "metadata": {
        "id": "7iL4cIazB1vl"
      },
      "execution_count": 4,
      "outputs": []
    },
    {
      "cell_type": "markdown",
      "source": [
        "## User entries\n",
        "\n",
        "We will present these inputs to Gemini using Beam. Again, feel free to change them to do your own experiments:"
      ],
      "metadata": {
        "id": "PXqHJOMYKmb6"
      }
    },
    {
      "cell_type": "code",
      "source": [
        "user_queries = [\"Spain\",\n",
        "                \"Switzerland\",\n",
        "                \"Argentina\",\n",
        "                \"Japan\",\n",
        "                \"Colombia\"]"
      ],
      "metadata": {
        "id": "58osjj1FKtWg"
      },
      "execution_count": 5,
      "outputs": []
    },
    {
      "cell_type": "markdown",
      "source": [
        "### RunInference transform\n",
        "\n",
        "We need to write a model handler for the RunInference transform. This allows us to use any external model easily, if we have some \"code snippet\" that we can run to call the model and obtain a prediction.\n",
        "\n",
        "For more details about `RunInference` and Beam ML, see\n",
        "* https://beam.apache.org/documentation/ml/overview/#prediction-and-inference\n",
        "\n",
        "For instance, using the button \"Get Code\" in Google AI Studio.\n",
        "\n",
        "We store the `GEMINI_API_KEY` in a Google Colab secret, you will need to create one before you are able to use this notebook.\n",
        "\n",
        "To get an API key, see\n",
        "* https://ai.google.dev/gemini-api/docs/get-started/tutorial?lang=python#setup_your_api_key\n",
        "* If you are in the EU, UK or CH, check the latest status for the availability of the free tier at https://ai.google.dev/gemini-api/docs/billing#is-Gemini-free-in-EEA-UK-CH"
      ],
      "metadata": {
        "id": "1PKKA13h7tKk"
      }
    },
    {
      "cell_type": "code",
      "source": [
        "class GeminiModelHandler(ModelHandler):\n",
        "  def __init__(self, api_key):\n",
        "    self.api_key = api_key\n",
        "\n",
        "  def load_model(self):\n",
        "    genai.configure(api_key=self.api_key)\n",
        "\n",
        "    # Create the model\n",
        "    # See https://ai.google.dev/api/python/google/generativeai/GenerativeModel\n",
        "    generation_config = {\n",
        "      \"temperature\": 1,\n",
        "      \"top_p\": 0.95,\n",
        "      \"top_k\": 64,\n",
        "      \"max_output_tokens\": 8192,\n",
        "      \"response_mime_type\": \"text/plain\",\n",
        "    }\n",
        "\n",
        "    return genai.GenerativeModel(\n",
        "      model_name=\"gemini-1.5-flash\",\n",
        "      generation_config=generation_config,\n",
        "      # safety_settings = Adjust safety settings\n",
        "      # See https://ai.google.dev/gemini-api/docs/safety-settings\n",
        "    )\n",
        "\n",
        "  def run_inference(self, batch, model, inference_args = None):\n",
        "      for b in batch:\n",
        "        c = model.generate_content(PROMPT + b)\n",
        "        t = c.candidates[0].content.parts[0].text\n",
        "        yield t"
      ],
      "metadata": {
        "id": "P7F854OG8Hf5"
      },
      "execution_count": 18,
      "outputs": []
    },
    {
      "cell_type": "markdown",
      "source": [
        "Make sure you have published your API key as a Colab secret.\n",
        "\n",
        "See the panel on the left side to add your own secret. The name of the secret hast to be `GEMINI_API_KEY`."
      ],
      "metadata": {
        "id": "YB3xLIpfLPuW"
      }
    },
    {
      "cell_type": "code",
      "source": [
        "# Get the API key from the Google Colab secrets\n",
        "from google.colab import userdata\n",
        "my_api_key = userdata.get('GEMINI_API_KEY')"
      ],
      "metadata": {
        "id": "nJsvJG9dCaUB"
      },
      "execution_count": 19,
      "outputs": []
    },
    {
      "cell_type": "code",
      "source": [
        "p = Pipeline(options=options)\n",
        "countries = p | beam.Create(user_queries)\n",
        "# TODO: write the rest of the pipeline"
      ],
      "metadata": {
        "id": "loCjxRZ1JuXn"
      },
      "execution_count": 20,
      "outputs": []
    },
    {
      "cell_type": "code",
      "source": [
        "ib.show(countries)"
      ],
      "metadata": {
        "id": "-XoS-qlTz5h7",
        "outputId": "f2459ea0-58d0-4fa7-82a1-0351e4f841de",
        "colab": {
          "base_uri": "https://localhost:8080/",
          "height": 347
        }
      },
      "execution_count": 21,
      "outputs": [
        {
          "output_type": "display_data",
          "data": {
            "text/plain": [
              "<IPython.core.display.HTML object>"
            ],
            "text/html": [
              "\n",
              "            <link rel=\"stylesheet\" href=\"https://stackpath.bootstrapcdn.com/bootstrap/4.4.1/css/bootstrap.min.css\" integrity=\"sha384-Vkoo8x4CGsO3+Hhxv8T/Q5PaXtkKtu6ug5TOeNV6gBiFeWPGFN9MuhOf23Q9Ifjh\" crossorigin=\"anonymous\">\n",
              "            <div id=\"progress_indicator_70e6f6bf025bea4837271951eed813d6\">\n",
              "              <div class=\"spinner-border text-info\" role=\"status\"></div>\n",
              "              <span class=\"text-info\">Processing... show</span>\n",
              "            </div>\n",
              "            "
            ]
          },
          "metadata": {}
        },
        {
          "output_type": "display_data",
          "data": {
            "text/plain": [
              "<IPython.core.display.HTML object>"
            ],
            "text/html": [
              "\n",
              "            <style>\n",
              "            .p-Widget.jp-OutputPrompt.jp-OutputArea-prompt:empty {\n",
              "              padding: 0;\n",
              "              border: 0;\n",
              "            }\n",
              "            .p-Widget.jp-RenderedJavaScript.jp-mod-trusted.jp-OutputArea-output:empty {\n",
              "              padding: 0;\n",
              "              border: 0;\n",
              "            }\n",
              "            </style>\n",
              "            <link rel=\"stylesheet\" href=\"https://cdn.datatables.net/1.10.20/css/jquery.dataTables.min.css\">\n",
              "            <table id=\"table_df_f41baa4968bdea60481c861ebe066768\" class=\"display\" style=\"display:block\"></table>\n",
              "            <script>\n",
              "              \n",
              "        if (typeof window.interactive_beam_jquery == 'undefined') {\n",
              "          var jqueryScript = document.createElement('script');\n",
              "          jqueryScript.src = 'https://code.jquery.com/jquery-3.4.1.slim.min.js';\n",
              "          jqueryScript.type = 'text/javascript';\n",
              "          jqueryScript.onload = function() {\n",
              "            var datatableScript = document.createElement('script');\n",
              "            datatableScript.src = 'https://cdn.datatables.net/1.10.20/js/jquery.dataTables.min.js';\n",
              "            datatableScript.type = 'text/javascript';\n",
              "            datatableScript.onload = function() {\n",
              "              window.interactive_beam_jquery = jQuery.noConflict(true);\n",
              "              window.interactive_beam_jquery(document).ready(function($){\n",
              "                \n",
              "            var dt;\n",
              "            if ($.fn.dataTable.isDataTable(\"#table_df_f41baa4968bdea60481c861ebe066768\")) {\n",
              "              dt = $(\"#table_df_f41baa4968bdea60481c861ebe066768\").dataTable();\n",
              "            } else if ($(\"#table_df_f41baa4968bdea60481c861ebe066768_wrapper\").length == 0) {\n",
              "              dt = $(\"#table_df_f41baa4968bdea60481c861ebe066768\").dataTable({\n",
              "                \n",
              "            bAutoWidth: false,\n",
              "            columns: [{'title': ''}, {'title': 'countries.0'}],\n",
              "            destroy: true,\n",
              "            responsive: true,\n",
              "            columnDefs: [\n",
              "              {\n",
              "                targets: \"_all\",\n",
              "                className: \"dt-left\"\n",
              "              },\n",
              "              {\n",
              "                \"targets\": 0,\n",
              "                \"width\": \"10px\",\n",
              "                \"title\": \"\"\n",
              "              }\n",
              "            ]\n",
              "              });\n",
              "            } else {\n",
              "              return;\n",
              "            }\n",
              "            dt.api()\n",
              "              .clear()\n",
              "              .rows.add([{1: 'Spain', 0: 0}, {1: 'Switzerland', 0: 1}, {1: 'Argentina', 0: 2}, {1: 'Japan', 0: 3}, {1: 'Colombia', 0: 4}])\n",
              "              .draw('full-hold');\n",
              "              });\n",
              "            }\n",
              "            document.head.appendChild(datatableScript);\n",
              "          };\n",
              "          document.head.appendChild(jqueryScript);\n",
              "        } else {\n",
              "          window.interactive_beam_jquery(document).ready(function($){\n",
              "            \n",
              "            var dt;\n",
              "            if ($.fn.dataTable.isDataTable(\"#table_df_f41baa4968bdea60481c861ebe066768\")) {\n",
              "              dt = $(\"#table_df_f41baa4968bdea60481c861ebe066768\").dataTable();\n",
              "            } else if ($(\"#table_df_f41baa4968bdea60481c861ebe066768_wrapper\").length == 0) {\n",
              "              dt = $(\"#table_df_f41baa4968bdea60481c861ebe066768\").dataTable({\n",
              "                \n",
              "            bAutoWidth: false,\n",
              "            columns: [{'title': ''}, {'title': 'countries.0'}],\n",
              "            destroy: true,\n",
              "            responsive: true,\n",
              "            columnDefs: [\n",
              "              {\n",
              "                targets: \"_all\",\n",
              "                className: \"dt-left\"\n",
              "              },\n",
              "              {\n",
              "                \"targets\": 0,\n",
              "                \"width\": \"10px\",\n",
              "                \"title\": \"\"\n",
              "              }\n",
              "            ]\n",
              "              });\n",
              "            } else {\n",
              "              return;\n",
              "            }\n",
              "            dt.api()\n",
              "              .clear()\n",
              "              .rows.add([{1: 'Spain', 0: 0}, {1: 'Switzerland', 0: 1}, {1: 'Argentina', 0: 2}, {1: 'Japan', 0: 3}, {1: 'Colombia', 0: 4}])\n",
              "              .draw('full-hold');\n",
              "          });\n",
              "        }\n",
              "            </script>"
            ]
          },
          "metadata": {}
        },
        {
          "output_type": "display_data",
          "data": {
            "application/javascript": [
              "\n",
              "        if (typeof window.interactive_beam_jquery == 'undefined') {\n",
              "          var jqueryScript = document.createElement('script');\n",
              "          jqueryScript.src = 'https://code.jquery.com/jquery-3.4.1.slim.min.js';\n",
              "          jqueryScript.type = 'text/javascript';\n",
              "          jqueryScript.onload = function() {\n",
              "            var datatableScript = document.createElement('script');\n",
              "            datatableScript.src = 'https://cdn.datatables.net/1.10.20/js/jquery.dataTables.min.js';\n",
              "            datatableScript.type = 'text/javascript';\n",
              "            datatableScript.onload = function() {\n",
              "              window.interactive_beam_jquery = jQuery.noConflict(true);\n",
              "              window.interactive_beam_jquery(document).ready(function($){\n",
              "                \n",
              "            $(\"#progress_indicator_70e6f6bf025bea4837271951eed813d6\").remove();\n",
              "              });\n",
              "            }\n",
              "            document.head.appendChild(datatableScript);\n",
              "          };\n",
              "          document.head.appendChild(jqueryScript);\n",
              "        } else {\n",
              "          window.interactive_beam_jquery(document).ready(function($){\n",
              "            \n",
              "            $(\"#progress_indicator_70e6f6bf025bea4837271951eed813d6\").remove();\n",
              "          });\n",
              "        }"
            ]
          },
          "metadata": {}
        }
      ]
    },
    {
      "cell_type": "code",
      "source": [
        "predictions = countries | beam.ml.inference.RunInference(model_handler=GeminiModelHandler(my_api_key))"
      ],
      "metadata": {
        "id": "jOupGt9p0uEM"
      },
      "execution_count": 23,
      "outputs": []
    },
    {
      "cell_type": "code",
      "source": [
        "ib.show(predictions)"
      ],
      "metadata": {
        "id": "E9QRZ0sw0wpk",
        "outputId": "133f58af-5ddf-4c36-ed88-10085d366d12",
        "colab": {
          "base_uri": "https://localhost:8080/",
          "height": 347
        }
      },
      "execution_count": 24,
      "outputs": [
        {
          "output_type": "display_data",
          "data": {
            "text/plain": [
              "<IPython.core.display.HTML object>"
            ],
            "text/html": [
              "\n",
              "            <link rel=\"stylesheet\" href=\"https://stackpath.bootstrapcdn.com/bootstrap/4.4.1/css/bootstrap.min.css\" integrity=\"sha384-Vkoo8x4CGsO3+Hhxv8T/Q5PaXtkKtu6ug5TOeNV6gBiFeWPGFN9MuhOf23Q9Ifjh\" crossorigin=\"anonymous\">\n",
              "            <div id=\"progress_indicator_819bd6fa95d193447f25dc1d7058b779\">\n",
              "              <div class=\"spinner-border text-info\" role=\"status\"></div>\n",
              "              <span class=\"text-info\">Processing... show</span>\n",
              "            </div>\n",
              "            "
            ]
          },
          "metadata": {}
        },
        {
          "output_type": "display_data",
          "data": {
            "text/plain": [
              "<IPython.core.display.HTML object>"
            ],
            "text/html": [
              "\n",
              "            <style>\n",
              "            .p-Widget.jp-OutputPrompt.jp-OutputArea-prompt:empty {\n",
              "              padding: 0;\n",
              "              border: 0;\n",
              "            }\n",
              "            .p-Widget.jp-RenderedJavaScript.jp-mod-trusted.jp-OutputArea-output:empty {\n",
              "              padding: 0;\n",
              "              border: 0;\n",
              "            }\n",
              "            </style>\n",
              "            <link rel=\"stylesheet\" href=\"https://cdn.datatables.net/1.10.20/css/jquery.dataTables.min.css\">\n",
              "            <table id=\"table_df_e5dc537d72aef4a1998a99d49a098680\" class=\"display\" style=\"display:block\"></table>\n",
              "            <script>\n",
              "              \n",
              "        if (typeof window.interactive_beam_jquery == 'undefined') {\n",
              "          var jqueryScript = document.createElement('script');\n",
              "          jqueryScript.src = 'https://code.jquery.com/jquery-3.4.1.slim.min.js';\n",
              "          jqueryScript.type = 'text/javascript';\n",
              "          jqueryScript.onload = function() {\n",
              "            var datatableScript = document.createElement('script');\n",
              "            datatableScript.src = 'https://cdn.datatables.net/1.10.20/js/jquery.dataTables.min.js';\n",
              "            datatableScript.type = 'text/javascript';\n",
              "            datatableScript.onload = function() {\n",
              "              window.interactive_beam_jquery = jQuery.noConflict(true);\n",
              "              window.interactive_beam_jquery(document).ready(function($){\n",
              "                \n",
              "            var dt;\n",
              "            if ($.fn.dataTable.isDataTable(\"#table_df_e5dc537d72aef4a1998a99d49a098680\")) {\n",
              "              dt = $(\"#table_df_e5dc537d72aef4a1998a99d49a098680\").dataTable();\n",
              "            } else if ($(\"#table_df_e5dc537d72aef4a1998a99d49a098680_wrapper\").length == 0) {\n",
              "              dt = $(\"#table_df_e5dc537d72aef4a1998a99d49a098680\").dataTable({\n",
              "                \n",
              "            bAutoWidth: false,\n",
              "            columns: [{'title': ''}, {'title': 'predictions.0'}],\n",
              "            destroy: true,\n",
              "            responsive: true,\n",
              "            columnDefs: [\n",
              "              {\n",
              "                targets: \"_all\",\n",
              "                className: \"dt-left\"\n",
              "              },\n",
              "              {\n",
              "                \"targets\": 0,\n",
              "                \"width\": \"10px\",\n",
              "                \"title\": \"\"\n",
              "              }\n",
              "            ]\n",
              "              });\n",
              "            } else {\n",
              "              return;\n",
              "            }\n",
              "            dt.api()\n",
              "              .clear()\n",
              "              .rows.add([{1: 'Madrid \\n', 0: 0}, {1: 'There is no officially recognized capital. \\n', 0: 1}, {1: 'Buenos Aires \\n', 0: 2}, {1: 'Tokyo \\n', 0: 3}, {1: 'Bogotá \\n', 0: 4}])\n",
              "              .draw('full-hold');\n",
              "              });\n",
              "            }\n",
              "            document.head.appendChild(datatableScript);\n",
              "          };\n",
              "          document.head.appendChild(jqueryScript);\n",
              "        } else {\n",
              "          window.interactive_beam_jquery(document).ready(function($){\n",
              "            \n",
              "            var dt;\n",
              "            if ($.fn.dataTable.isDataTable(\"#table_df_e5dc537d72aef4a1998a99d49a098680\")) {\n",
              "              dt = $(\"#table_df_e5dc537d72aef4a1998a99d49a098680\").dataTable();\n",
              "            } else if ($(\"#table_df_e5dc537d72aef4a1998a99d49a098680_wrapper\").length == 0) {\n",
              "              dt = $(\"#table_df_e5dc537d72aef4a1998a99d49a098680\").dataTable({\n",
              "                \n",
              "            bAutoWidth: false,\n",
              "            columns: [{'title': ''}, {'title': 'predictions.0'}],\n",
              "            destroy: true,\n",
              "            responsive: true,\n",
              "            columnDefs: [\n",
              "              {\n",
              "                targets: \"_all\",\n",
              "                className: \"dt-left\"\n",
              "              },\n",
              "              {\n",
              "                \"targets\": 0,\n",
              "                \"width\": \"10px\",\n",
              "                \"title\": \"\"\n",
              "              }\n",
              "            ]\n",
              "              });\n",
              "            } else {\n",
              "              return;\n",
              "            }\n",
              "            dt.api()\n",
              "              .clear()\n",
              "              .rows.add([{1: 'Madrid \\n', 0: 0}, {1: 'There is no officially recognized capital. \\n', 0: 1}, {1: 'Buenos Aires \\n', 0: 2}, {1: 'Tokyo \\n', 0: 3}, {1: 'Bogotá \\n', 0: 4}])\n",
              "              .draw('full-hold');\n",
              "          });\n",
              "        }\n",
              "            </script>"
            ]
          },
          "metadata": {}
        },
        {
          "output_type": "display_data",
          "data": {
            "application/javascript": [
              "\n",
              "        if (typeof window.interactive_beam_jquery == 'undefined') {\n",
              "          var jqueryScript = document.createElement('script');\n",
              "          jqueryScript.src = 'https://code.jquery.com/jquery-3.4.1.slim.min.js';\n",
              "          jqueryScript.type = 'text/javascript';\n",
              "          jqueryScript.onload = function() {\n",
              "            var datatableScript = document.createElement('script');\n",
              "            datatableScript.src = 'https://cdn.datatables.net/1.10.20/js/jquery.dataTables.min.js';\n",
              "            datatableScript.type = 'text/javascript';\n",
              "            datatableScript.onload = function() {\n",
              "              window.interactive_beam_jquery = jQuery.noConflict(true);\n",
              "              window.interactive_beam_jquery(document).ready(function($){\n",
              "                \n",
              "            $(\"#progress_indicator_819bd6fa95d193447f25dc1d7058b779\").remove();\n",
              "              });\n",
              "            }\n",
              "            document.head.appendChild(datatableScript);\n",
              "          };\n",
              "          document.head.appendChild(jqueryScript);\n",
              "        } else {\n",
              "          window.interactive_beam_jquery(document).ready(function($){\n",
              "            \n",
              "            $(\"#progress_indicator_819bd6fa95d193447f25dc1d7058b779\").remove();\n",
              "          });\n",
              "        }"
            ]
          },
          "metadata": {}
        }
      ]
    },
    {
      "cell_type": "code",
      "source": [
        "predictions | beam.Map(print)\n",
        "\n",
        "p.run()"
      ],
      "metadata": {
        "id": "8eS0iW6x1fMU",
        "outputId": "732dd0ae-b9a7-4ee4-e253-183f19fede37",
        "colab": {
          "base_uri": "https://localhost:8080/",
          "height": 208
        }
      },
      "execution_count": 25,
      "outputs": [
        {
          "output_type": "stream",
          "name": "stdout",
          "text": [
            "Madrid \n",
            "\n",
            "There is no officially recognized capital. \n",
            "\n",
            "Buenos Aires \n",
            "\n",
            "Tokyo \n",
            "\n",
            "Bogotá \n",
            "\n"
          ]
        },
        {
          "output_type": "execute_result",
          "data": {
            "text/plain": [
              "<apache_beam.runners.interactive.interactive_runner.PipelineResult at 0x7b837c90ecb0>"
            ]
          },
          "metadata": {},
          "execution_count": 25
        }
      ]
    },
    {
      "cell_type": "code",
      "source": [],
      "metadata": {
        "id": "P-eQgFDM1kzc"
      },
      "execution_count": null,
      "outputs": []
    }
  ]
}